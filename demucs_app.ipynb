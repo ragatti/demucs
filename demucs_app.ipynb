{
 "metadata": {
  "language_info": {
   "codemirror_mode": {
    "name": "ipython",
    "version": 3
   },
   "file_extension": ".py",
   "mimetype": "text/x-python",
   "name": "python",
   "nbconvert_exporter": "python",
   "pygments_lexer": "ipython3",
   "version": "3.8.6-final"
  },
  "orig_nbformat": 2,
  "kernelspec": {
   "name": "python3",
   "display_name": "Python 3.8.6 64-bit ('fastai')",
   "metadata": {
    "interpreter": {
     "hash": "888c4ed0bac366a407ac9db2c7c2ca7482d0753c6b7f219729b6477dc942228c"
    }
   }
  }
 },
 "nbformat": 4,
 "nbformat_minor": 2,
 "cells": [
  {
   "cell_type": "code",
   "execution_count": 1,
   "metadata": {
    "tags": []
   },
   "outputs": [],
   "source": [
    "#hide\n",
    "import os\n",
    "import IPython.display as ipd\n",
    "from pathlib import Path\n",
    "from ipywidgets import VBox,widgets\n",
    "import functools\n",
    "cwd = os.getcwd()"
   ]
  },
  {
   "cell_type": "code",
   "execution_count": 2,
   "metadata": {},
   "outputs": [
    {
     "output_type": "display_data",
     "data": {
      "text/plain": "VBox(children=(Label(value='Load mp3 file'), FileUpload(value={}, accept='.mp3', description='Upload'), Button…",
      "application/vnd.jupyter.widget-view+json": {
       "version_major": 2,
       "version_minor": 0,
       "model_id": "1a7279430a254753a544c4a153d92d5a"
      }
     },
     "metadata": {}
    }
   ],
   "source": [
    "in_path = Path(cwd, 'input')\n",
    "in_file = Path.joinpath(in_path, \"original.mp3\")\n",
    "out_path = Path(cwd, 'separated', 'demucs', 'original')\n",
    "btn_upload = widgets.FileUpload(accept= '.mp3')\n",
    "btn_play_in = widgets.Button(description='Play original')\n",
    "btn_demucs = widgets.Button(description='Demucs')\n",
    "btn_play_bass = widgets.Button(description='Play bass')\n",
    "btn_play_drums = widgets.Button(description='Play drums')\n",
    "btn_play_vocals = widgets.Button(description='Play vocals')\n",
    "btn_play_other = widgets.Button(description='Play other')\n",
    "out_pl = widgets.Output()\n",
    "\n",
    "def on_click_play(change, file=None):\n",
    "  out_pl.clear_output()\n",
    "  with out_pl:\n",
    "    if file:\n",
    "      out_file = Path.joinpath(out_path, \"{}.wav\".format(file))\n",
    "      try:\n",
    "        display(ipd.Audio(out_file.read_bytes(), autoplay=True))\n",
    "      except FileNotFoundError:\n",
    "        print(\"The file '{}' does not exists.\\n\".format(file),\n",
    "              \"You should separate the uploaded audio by\\n\",\n",
    "              \"pressing the demucs button\", sep='')\n",
    "    else:\n",
    "      try:\n",
    "        display(ipd.Audio(btn_upload.data[-1], autoplay=True))\n",
    "      except IndexError:\n",
    "        print(\"You should upload a mp3 file\")        \n",
    "\n",
    "def on_click_demucs(change):\n",
    "  out_pl.clear_output()\n",
    "  with out_pl:\n",
    "    in_path.mkdir(exist_ok=True)\n",
    "    try:\n",
    "      in_file.write_bytes(btn_upload.data[-1])\n",
    "      print('Please wait ...')\n",
    "      !python3 -m demucs.separate --dl -n light -d cpu \"./input/original.mp3\"\n",
    "    except IndexError:\n",
    "      print(\"You should upload a file\")\n",
    "\n",
    "btn_play_in.on_click(functools.partial(on_click_play, file=None))\n",
    "btn_demucs.on_click(on_click_demucs)\n",
    "btn_play_bass.on_click(functools.partial(on_click_play, file='bass'))\n",
    "btn_play_drums.on_click(functools.partial(on_click_play, file='drums')) \n",
    "btn_play_vocals.on_click(functools.partial(on_click_play, file='vocals'))\n",
    "btn_play_other.on_click(functools.partial(on_click_play, file='other'))\n",
    "\n",
    "VBox([widgets.Label('Load mp3 file'), \n",
    "      btn_upload, btn_play_in, btn_demucs,\n",
    "      btn_play_drums, btn_play_bass, btn_play_vocals,\n",
    "      btn_play_other, out_pl])"
   ]
  }
 ]
}